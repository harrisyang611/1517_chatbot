{
 "cells": [
  {
   "attachments": {},
   "cell_type": "markdown",
   "metadata": {},
   "source": [
    "# Fine Tuned Model playground"
   ]
  },
  {
   "attachments": {},
   "cell_type": "markdown",
   "metadata": {},
   "source": [
    "Here, you can use the model tuned ourselves and generate some decent response.\n",
    "\n",
    "We currently use mental-bot-V2, looks a bit overfitting, but a good start."
   ]
  },
  {
   "cell_type": "code",
   "execution_count": 1,
   "metadata": {},
   "outputs": [],
   "source": [
    "from transformers import AutoModelWithLMHead, AutoTokenizer"
   ]
  },
  {
   "cell_type": "code",
   "execution_count": 7,
   "metadata": {},
   "outputs": [
    {
     "name": "stderr",
     "output_type": "stream",
     "text": [
      "c:\\Users\\611\\AppData\\Local\\Programs\\Python\\Python38\\lib\\site-packages\\transformers\\models\\auto\\modeling_auto.py:1295: FutureWarning: The class `AutoModelWithLMHead` is deprecated and will be removed in a future version. Please use `AutoModelForCausalLM` for causal language models, `AutoModelForMaskedLM` for masked language models and `AutoModelForSeq2SeqLM` for encoder-decoder models.\n",
      "  warnings.warn(\n"
     ]
    }
   ],
   "source": [
    "test_query = [\"Hi\", \"I'm feeling down.\", \"I do not want to talk about it.\", \"Why I am so depressed\"]\n",
    "tokenizer = AutoTokenizer.from_pretrained('microsoft/DialoGPT-small')\n",
    "model = AutoModelWithLMHead.from_pretrained('../mental-bot-v2')"
   ]
  },
  {
   "cell_type": "code",
   "execution_count": 8,
   "metadata": {},
   "outputs": [
    {
     "name": "stderr",
     "output_type": "stream",
     "text": [
      "A decoder-only architecture is being used, but right-padding was detected! For correct generation results, please set `padding_side='left'` when initializing the tokenizer.\n",
      "A decoder-only architecture is being used, but right-padding was detected! For correct generation results, please set `padding_side='left'` when initializing the tokenizer.\n"
     ]
    }
   ],
   "source": [
    "test_chatbot = []\n",
    "\n",
    "for i in range(len(test_query)):\n",
    "  # append the new user input tokens to the chat history\n",
    "  bot_input_ids = tokenizer.encode(test_query[i] + tokenizer.eos_token, return_tensors='pt')\n",
    "  print(\"Patient: {} \\n\".format(test_query[i]))\n",
    "#   print(\"Reference:  {} \\n\".format(test_response[i]))\n",
    "\n",
    "  # generated a response while limiting the total chat history to 1000 tokens, \n",
    "  chat_history_ids = model.generate(\n",
    "      bot_input_ids, max_length=100,\n",
    "      pad_token_id=tokenizer.eos_token_id,  \n",
    "      no_repeat_ngram_size=3,       \n",
    "      do_sample=True, \n",
    "      top_k=10, \n",
    "      top_p=0.7,\n",
    "      temperature = 0.8\n",
    "  )\n",
    "\n",
    "  # pretty print last ouput tokens from bot\n",
    "  print(\"Predict: {} \\n\\n\".format(tokenizer.decode(chat_history_ids[:, bot_input_ids.shape[-1]:][0], skip_special_tokens=True)))\n",
    "  test_chatbot.append(tokenizer.decode(chat_history_ids[:, bot_input_ids.shape[-1]:][0], skip_special_tokens=True))\n"
   ]
  }
 ],
 "metadata": {
  "kernelspec": {
   "display_name": "Python 3",
   "language": "python",
   "name": "python3"
  },
  "language_info": {
   "codemirror_mode": {
    "name": "ipython",
    "version": 3
   },
   "file_extension": ".py",
   "mimetype": "text/x-python",
   "name": "python",
   "nbconvert_exporter": "python",
   "pygments_lexer": "ipython3",
   "version": "3.8.0"
  },
  "orig_nbformat": 4
 },
 "nbformat": 4,
 "nbformat_minor": 2
}
