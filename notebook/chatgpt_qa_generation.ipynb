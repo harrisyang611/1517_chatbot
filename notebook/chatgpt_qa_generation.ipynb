{
 "cells": [
  {
   "cell_type": "code",
   "execution_count": 2,
   "metadata": {},
   "outputs": [
    {
     "name": "stderr",
     "output_type": "stream",
     "text": [
      "/opt/anaconda3/lib/python3.8/site-packages/pandas/core/computation/expressions.py:20: UserWarning: Pandas requires version '2.7.3' or newer of 'numexpr' (version '2.7.1' currently installed).\n",
      "  from pandas.core.computation.check import NUMEXPR_INSTALLED\n"
     ]
    }
   ],
   "source": [
    "import openai\n"
   ]
  },
  {
   "cell_type": "code",
   "execution_count": 10,
   "metadata": {},
   "outputs": [],
   "source": [
    "# Example OpenAI Python library request\n",
    "MODEL = \"gpt-3.5-turbo\"\n",
    "response = openai.ChatCompletion.create(\n",
    "    model=MODEL,\n",
    "    messages=[\n",
    "        {\"role\": \"system\", \"content\": \"You are a user friendly chat system\"},\n",
    "        {\"role\": \"user\", \"content\": \"Could you please tell me 20 mental health related query?\"}\n",
    "    ],\n",
    "    temperature=0,\n",
    ")\n"
   ]
  },
  {
   "cell_type": "code",
   "execution_count": 13,
   "metadata": {},
   "outputs": [
    {
     "name": "stdout",
     "output_type": "stream",
     "text": [
      "Sure, here are 20 mental health related queries:\n",
      "\n",
      "1. What are the symptoms of anxiety?\n",
      "2. How can I manage my stress levels?\n",
      "3. What are the signs of depression?\n",
      "4. How can I improve my self-esteem?\n",
      "5. What is bipolar disorder and how is it treated?\n",
      "6. How can I cope with grief and loss?\n",
      "7. What are the warning signs of suicide?\n",
      "8. How can I manage my anger?\n",
      "9. What is post-traumatic stress disorder (PTSD) and how is it treated?\n",
      "10. How can I improve my sleep quality?\n",
      "11. What are the symptoms of obsessive-compulsive disorder (OCD)?\n",
      "12. How can I manage my social anxiety?\n",
      "13. What is borderline personality disorder (BPD) and how is it treated?\n",
      "14. How can I improve my communication skills?\n",
      "15. What are the symptoms of attention deficit hyperactivity disorder (ADHD)?\n",
      "16. How can I manage my panic attacks?\n",
      "17. What is schizophrenia and how is it treated?\n",
      "18. How can I improve my time management skills?\n",
      "19. What are the symptoms of eating disorders?\n",
      "20. How can I improve my overall mental health and well-being?\n"
     ]
    }
   ],
   "source": [
    "query_by_gpt = response['choices'][0]['message']['content']\n",
    "# with open(\"./data/gpt_mental_query.txt\", \"w\") as text_file:\n",
    "#     text_file.write(query_by_gpt)\n",
    "print(query_by_gpt)"
   ]
  },
  {
   "cell_type": "code",
   "execution_count": 21,
   "metadata": {},
   "outputs": [],
   "source": [
    "MODEL = \"gpt-3.5-turbo\"\n",
    "comfort_depression = openai.ChatCompletion.create(\n",
    "    model=MODEL,\n",
    "    messages=[\n",
    "        {\"role\": \"system\", \"content\": \"You are a user friendly chat system\"},\n",
    "        {\"role\": \"user\", \"content\": \"How do you talk to a depressed person? Could you give me 30 sentences? Not questions please.\"}\n",
    "    ],\n",
    "    temperature=0,\n",
    ")"
   ]
  },
  {
   "cell_type": "code",
   "execution_count": 50,
   "metadata": {},
   "outputs": [],
   "source": [
    "from string import digits\n",
    "import re\n",
    "import itertools\n",
    "import pandas as pd\n",
    "\n",
    "def process_token(token):\n",
    "    token = token.lstrip(digits)[1:]\n",
    "    token = token.strip()\n",
    "    return(token)\n",
    "\n",
    "comfort_depression_sent = comfort_depression['choices'][0]['message']['content']\n",
    "comfort_depression_sent = comfort_depression_sent.split('\\n')\n",
    "comfort_depression_sent = [process_token(token) for token in comfort_depression_sent if re.search(r'\\d',token) ]\n",
    "question = ['I feel depressed.', 'What if I am depressed.', \"I'm so sad today.\"]\n",
    "\n",
    "possible_pair = list(itertools.product(question, comfort_depression_sent))\n",
    "pair = [ {'tag':'depression', 'Questions':one_pair[0], 'Answers':one_pair[1]} for one_pair in possible_pair]\n",
    "mental_intend = pd.DataFrame.from_dict(pair, orient='columns')\n",
    "\n",
    "mental_intend.to_json('../data/gpt/depression_gpt.json', orient= 'records')"
   ]
  },
  {
   "cell_type": "code",
   "execution_count": null,
   "metadata": {},
   "outputs": [],
   "source": []
  },
  {
   "cell_type": "code",
   "execution_count": 31,
   "metadata": {},
   "outputs": [],
   "source": [
    "MODEL = \"gpt-3.5-turbo\"\n",
    "comfort_anxity = openai.ChatCompletion.create(\n",
    "    model=MODEL,\n",
    "    messages=[\n",
    "        {\"role\": \"system\", \"content\": \"You are a user friendly chat system\"},\n",
    "        {\"role\": \"user\", \"content\": \"How do you talk to a anxiety person? Could you give me 30 sentences? Not questions please.\"}\n",
    "    ],\n",
    "    temperature=0,\n",
    ")"
   ]
  },
  {
   "cell_type": "code",
   "execution_count": 51,
   "metadata": {},
   "outputs": [],
   "source": [
    "comfort_anxiety_sent = comfort_anxity['choices'][0]['message']['content']\n",
    "comfort_anxiety_sent = comfort_anxiety_sent.split('\\n')\n",
    "comfort_anxiety_sent = [process_token(token) for token in comfort_anxiety_sent if re.search(r'\\d',token) ]\n",
    "\n",
    "question = ['I feel anxiety.', \"I'm worried\", \"I cannot relax myself.\"]\n",
    "\n",
    "possible_pair = list(itertools.product(question, comfort_anxiety_sent))\n",
    "pair = [ {'tag':'anxiety', 'Questions':one_pair[0], 'Answers':one_pair[1]} for one_pair in possible_pair]\n",
    "mental_intend = pd.DataFrame.from_dict(pair, orient='columns')\n",
    "\n",
    "mental_intend.to_json('../data/gpt/anxiety_gpt.json', orient= 'records')"
   ]
  },
  {
   "cell_type": "code",
   "execution_count": 34,
   "metadata": {},
   "outputs": [],
   "source": [
    "MODEL = \"gpt-3.5-turbo\"\n",
    "comfort_mental_health = openai.ChatCompletion.create(\n",
    "    model=MODEL,\n",
    "    messages=[\n",
    "        {\"role\": \"system\", \"content\": \"You are a user friendly chat system\"},\n",
    "        {\"role\": \"user\", \"content\": \"How do you talk to a person with mental health? Could you give me 30 sample sentences? Not questions please.\"}\n",
    "    ],\n",
    "    temperature=0,\n",
    ")"
   ]
  },
  {
   "cell_type": "code",
   "execution_count": 52,
   "metadata": {},
   "outputs": [],
   "source": [
    "comfort_mental_health_sent = comfort_mental_health['choices'][0]['message']['content']\n",
    "comfort_mental_health_sent = comfort_mental_health_sent.split('\\n')\n",
    "comfort_mental_health_sent = [process_token(token) for token in comfort_mental_health_sent if re.search(r'\\d',token) ][1:]\n",
    "\n",
    "question = ['I feel mentally weak.', \"I'm not feeling so well\", \"My life sucks.\"]\n",
    "\n",
    "possible_pair = list(itertools.product(question, comfort_mental_health_sent))\n",
    "pair = [ {'tag':'mentally_sad', 'Questions':one_pair[0], 'Answers':one_pair[1]} for one_pair in possible_pair]\n",
    "mental_intend = pd.DataFrame.from_dict(pair, orient='columns')\n",
    "\n",
    "mental_intend.to_json('../data/gpt/mental_sadness_gpt.json', orient= 'records')"
   ]
  },
  {
   "cell_type": "code",
   "execution_count": null,
   "metadata": {},
   "outputs": [],
   "source": []
  }
 ],
 "metadata": {
  "kernelspec": {
   "display_name": "Python 3.8.3 ('base')",
   "language": "python",
   "name": "python3"
  },
  "language_info": {
   "codemirror_mode": {
    "name": "ipython",
    "version": 3
   },
   "file_extension": ".py",
   "mimetype": "text/x-python",
   "name": "python",
   "nbconvert_exporter": "python",
   "pygments_lexer": "ipython3",
   "version": "3.8.3"
  },
  "orig_nbformat": 4,
  "vscode": {
   "interpreter": {
    "hash": "40d3a090f54c6569ab1632332b64b2c03c39dcf918b08424e98f38b5ae0af88f"
   }
  }
 },
 "nbformat": 4,
 "nbformat_minor": 2
}
